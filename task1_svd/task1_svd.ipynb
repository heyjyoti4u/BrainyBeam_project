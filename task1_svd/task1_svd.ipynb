{
  "nbformat": 4,
  "nbformat_minor": 0,
  "metadata": {
    "colab": {
      "provenance": []
    },
    "kernelspec": {
      "name": "python3",
      "display_name": "Python 3"
    },
    "language_info": {
      "name": "python"
    }
  },
  "cells": [
    {
      "cell_type": "code",
      "source": [
        "import numpy as np\n",
        "\n",
        "A = np.array([[3, 2, 2],\n",
        "              [2, 3, -2]])\n",
        "\n",
        "print(\"Original Matrix A:\")\n",
        "print(A)\n",
        "\n",
        "U, S, VT = np.linalg.svd(A)\n",
        "\n",
        "print(\"\\nMatrix U:\")\n",
        "print(U)\n",
        "\n",
        "print(\"\\nSingular values (S):\")\n",
        "print(S)\n",
        "\n",
        "print(\"\\nMatrix V^T:\")\n",
        "print(VT)\n",
        "\n",
        "S_matrix = np.zeros((U.shape[0], VT.shape[0]))\n",
        "np.fill_diagonal(S_matrix, S)\n",
        "\n",
        "A_reconstructed = np.dot(U, np.dot(S_matrix, VT))\n",
        "\n",
        "print(\"\\nReconstructed Matrix A:\")\n",
        "print(A_reconstructed)\n",
        "\n",
        "is_close = np.allclose(A, A_reconstructed)\n",
        "print(\"\\nReconstruction successful:\", is_close)\n"
      ],
      "metadata": {
        "colab": {
          "base_uri": "https://localhost:8080/"
        },
        "id": "VA08zYttGtNt",
        "outputId": "af51971b-716e-439d-ab95-d5bc38a5b751"
      },
      "execution_count": 1,
      "outputs": [
        {
          "output_type": "stream",
          "name": "stdout",
          "text": [
            "Original Matrix A:\n",
            "[[ 3  2  2]\n",
            " [ 2  3 -2]]\n",
            "\n",
            "Matrix U:\n",
            "[[-0.70710678 -0.70710678]\n",
            " [-0.70710678  0.70710678]]\n",
            "\n",
            "Singular values (S):\n",
            "[5. 3.]\n",
            "\n",
            "Matrix V^T:\n",
            "[[-7.07106781e-01 -7.07106781e-01 -6.47932334e-17]\n",
            " [-2.35702260e-01  2.35702260e-01 -9.42809042e-01]\n",
            " [-6.66666667e-01  6.66666667e-01  3.33333333e-01]]\n",
            "\n",
            "Reconstructed Matrix A:\n",
            "[[ 3.  2.  2.]\n",
            " [ 2.  3. -2.]]\n",
            "\n",
            "Reconstruction successful: True\n"
          ]
        }
      ]
    },
    {
      "cell_type": "code",
      "execution_count": null,
      "metadata": {
        "id": "ZPJgqpLGGfOX"
      },
      "outputs": [],
      "source": []
    }
  ]
}